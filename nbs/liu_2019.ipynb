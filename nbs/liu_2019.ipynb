{
 "cells": [
  {
   "cell_type": "markdown",
   "id": "6b8d1145-74ff-40ef-914c-9a3fb21822d6",
   "metadata": {},
   "source": [
    "# Plasma proteome profiling discovers novel proteins associated with non-alcoholic fatty liver disease\n",
    "Liu et al. 2019\n",
    "\n",
    "In this notebook we want to reproduce the results from [Liu et al](https://doi.org/10.15252/msb.20188793). The aim is to identify proteins associated with non-alcoholic fatty liver disease (NAFLD)."
   ]
  },
  {
   "cell_type": "code",
   "execution_count": 1,
   "id": "30adfc1e-25b1-43ae-8ced-2b7bc385e213",
   "metadata": {},
   "source": [
    "import alphastats\n",
    "import plotly.io as pio\n",
    "pio.renderers.default = \"plotly_mimetype+notebook\" "
   ],
   "outputs": []
  },
  {
   "cell_type": "code",
   "execution_count": 2,
   "id": "ae581391",
   "metadata": {},
   "source": [
    "!pip show alphastats"
   ],
   "outputs": []
  },
  {
   "cell_type": "markdown",
   "id": "9ad65940",
   "metadata": {},
   "source": [
    "We are going to load the `proteinGroups.txt` and the corresponding metadatafile. You can find the data [here](https://github.com/MannLabs/alphapeptstats/tree/main/testfiles/maxquant) or on ProteomeXchange [PXD011839](http://proteomecentral.proteomexchange.org/cgi/GetDataset?ID=PXD011839).\n",
    "To load the proteomis data you need to create a loader object using `alphastats.MaxQuantLoader`. The whole downstream analysis will be performed on a `alphastats.DataSet`. To create the DataSet you need to provide the loader object as well as the metadata."
   ]
  },
  {
   "cell_type": "code",
   "execution_count": 3,
   "id": "6a896128-5669-4d09-9627-c56038a29da9",
   "metadata": {},
   "source": [
    "# we are going to load the proteomics data\n",
    "loader = alphastats.MaxQuantLoader(\n",
    "    file = \"../testfiles/maxquant/proteinGroups.txt\", \n",
    "    intensity_column=\"LFQ intensity [sample]\",\n",
    "    # for indexing we are going to use the gene name columm\n",
    "    # it is adivsed to use the ProteinIDs for indexing as these are unique\n",
    "    index_column=\"Gene names\",\n",
    "    gene_names_column=None\n",
    ")\n",
    "dataset = alphastats.DataSet(\n",
    "    loader = loader, \n",
    "    metadata_path=\"../testfiles/maxquant/metadata.xlsx\", \n",
    "    sample_column=\"sample\"\n",
    ")"
   ],
   "outputs": []
  },
  {
   "cell_type": "markdown",
   "id": "7dd09ff2-2fb8-43e7-9d3f-ef9a233ba729",
   "metadata": {},
   "source": [
    "The metadata contains pretty long names, in the first step we are going to replace the names with abbreviations to make the analysis more straightforward."
   ]
  },
  {
   "cell_type": "code",
   "execution_count": 4,
   "id": "21cae121-0c03-4740-92f3-966b4b7fdf41",
   "metadata": {},
   "source": [
    "new_names = {\n",
    "    \"non-alcoholic fatty liver disease\": \"NAFLD\",\n",
    "    \"type 2 diabetes mellitus\": \"T2DM\",\n",
    "    \"type 2 diabetes mellitus|non-alcoholic fatty liver disease\": \"T2DM+NAFLD\"\n",
    "}\n",
    "dataset.metadata[\"disease\"].replace(new_names, inplace=True)"
   ],
   "outputs": []
  },
  {
   "cell_type": "markdown",
   "id": "095e83ed",
   "metadata": {},
   "source": [
    "For preprocessing we are going to use quantile normalization, k-Nearest Neighbour imputation and remove contanminants."
   ]
  },
  {
   "cell_type": "code",
   "execution_count": 5,
   "id": "ed545483-4da6-48f5-8ef6-1569ef0a6099",
   "metadata": {},
   "source": [
    "dataset.preprocess(\n",
    "    log2_transform=False,\n",
    "    remove_contaminations=True, \n",
    "    subset=True, \n",
    "    imputation=\"knn\", \n",
    "    normalization=\"quantile\"\n",
    ")"
   ],
   "outputs": []
  },
  {
   "cell_type": "code",
   "execution_count": 6,
   "id": "73dab0d2-b339-43f3-ab28-babb59d4d696",
   "metadata": {},
   "source": [
    "dataset.preprocessing_info"
   ],
   "outputs": []
  },
  {
   "cell_type": "markdown",
   "id": "e61d3cc0-a4b6-41e2-b1d8-18478a196885",
   "metadata": {},
   "source": [
    "## Plot Volcano"
   ]
  },
  {
   "cell_type": "markdown",
   "id": "cf848ea7",
   "metadata": {},
   "source": [
    "Which proteins are significantly higher or lower in intensity comparing Diabetes mellitus Type 2 and Diabetes mellitus Type 2 + non-alcoholic fatty liver disease?"
   ]
  },
  {
   "cell_type": "code",
   "execution_count": 7,
   "id": "76004430-3dc2-48c9-8fad-0eb428d7b404",
   "metadata": {},
   "source": [
    "volcano_plot = dataset.plot_volcano(\n",
    "    column=\"disease\", # column in metadata\n",
    "    group1=\"T2DM\",\n",
    "    group2=\"T2DM+NAFLD\",\n",
    "    labels=True, # add label to significantly enriched proteins\n",
    "    alpha=0.001 # cutoff for pvalue\n",
    ")\n",
    "volcano_plot.show(renderer = \"png\")\n"
   ],
   "outputs": []
  },
  {
   "cell_type": "markdown",
   "id": "9bcd5cda-0c9c-4e1a-9bcf-918a67cbbb35",
   "metadata": {},
   "source": [
    "## Plot Intensity"
   ]
  },
  {
   "cell_type": "markdown",
   "id": "690ad34d",
   "metadata": {},
   "source": [
    "Boxplot of intensity values of T2DM and T2DM+NAFLD of idenitified enriched/downregulated proteins."
   ]
  },
  {
   "cell_type": "code",
   "execution_count": 8,
   "id": "61f94c80-535d-4b5f-82fc-df8196936f24",
   "metadata": {},
   "source": [
    "for protein in [\"LGALS3BP\",\"AFM\",\"SERPINC1\",\"CTSD;HEL-S-130P\",\"ALDOB\"]:\n",
    "    plot = dataset.plot_intensity(\n",
    "        method=\"all\",\n",
    "        protein_id=protein, \n",
    "        group=\"disease\", # column in metadata\n",
    "        subgroups=[\"T2DM\",\"T2DM+NAFLD\"], # we only want to see T2DM and T2DM+NAFLD\n",
    "        add_significance=True # add bar with pvalue\n",
    "        )\n",
    "    plot.show(renderer = \"png\")"
   ],
   "outputs": []
  },
  {
   "cell_type": "markdown",
   "id": "d47327ee",
   "metadata": {},
   "source": [
    "Jupyter Notebook can be found: \n",
    "https://github.com/MannLabs/alphapeptstats/blob/main/nbs/liu_2019.ipynb"
   ]
  }
 ],
 "metadata": {
  "kernelspec": {
   "display_name": "Python 3 (ipykernel)",
   "language": "python",
   "name": "python3"
  },
  "language_info": {
   "codemirror_mode": {
    "name": "ipython",
    "version": 3
   },
   "file_extension": ".py",
   "mimetype": "text/x-python",
   "name": "python",
   "nbconvert_exporter": "python",
   "pygments_lexer": "ipython3",
   "version": "3.10.9"
  },
  "vscode": {
   "interpreter": {
    "hash": "60520fe53085a60915007a137fc402089791c30c95410a580d6f5b929af6eafa"
   }
  }
 },
 "nbformat": 4,
 "nbformat_minor": 5
}
